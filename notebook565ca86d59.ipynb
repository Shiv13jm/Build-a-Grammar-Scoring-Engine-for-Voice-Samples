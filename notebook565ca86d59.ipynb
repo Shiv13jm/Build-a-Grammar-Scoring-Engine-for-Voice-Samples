# This Python 3 environment comes with many helpful analytics libraries installed
# It is defined by the kaggle/python Docker image: https://github.com/kaggle/docker-python
# For example, here's several helpful packages to load

import numpy as np # linear algebra
import pandas as pd # data processing, CSV file I/O (e.g. pd.read_csv)

# Input data files are available in the read-only "../input/" directory
# For example, running this (by clicking run or pressing Shift+Enter) will list all files under the input directory

import os
for dirname, _, filenames in os.walk('/kaggle/input'):
    for filename in filenames:
        print(os.path.join(dirname, filename))

# You can write up to 20GB to the current directory (/kaggle/working/) that gets preserved as output when you create a version using "Save & Run All" 
# You can also write temporary files to /kaggle/temp/, but they won't be saved outside of the current session

import os
for dirname, _, filenames in os.walk('/kaggle/input'):
    for filename in filenames:
        print(os.path.join(dirname, filename))

import pandas as pd

# Load Excel file
df = pd.read_excel('/kaggle/input/speech-content-fluency-and-pronunciation-scores/processed_audio_sample_scoring.xlsx')

# Peek at the data
df.head()
df.sample(5)
print(df.columns)
df.head(2)


AUDIO_DIR = "/kaggle/input/speech-content-fluency-and-pronunciation-scores/speech_data/audio onepte-repeat sentence"

df['file_path'] = df['Record Audio Name'].apply(lambda x: f"{AUDIO_DIR}/{x}.m4a")
import os

df['file_exists'] = df['file_path'].apply(lambda x: os.path.exists(x))
print(df['file_exists'].value_counts())


import librosa
import numpy as np
from tqdm import tqdm

X = []
valid_indices = []

for i, path in tqdm(enumerate(df['file_path']), total=len(df)):
    try:
        y, sr = librosa.load(path, sr=None)  # sr=None preserves original sampling rate
        mfcc = librosa.feature.mfcc(y=y, sr=sr, n_mfcc=13)
        mfcc_mean = np.mean(mfcc.T, axis=0)
        X.append(mfcc_mean)
        valid_indices.append(i)
    except Exception as e:
        print(f"Failed at {i}: {e}")


# Use only valid rows
X = np.array(X)
y = df.iloc[valid_indices]['Pronun'].values  # Replace with your actual label column

from sklearn.ensemble import RandomForestRegressor
from sklearn.model_selection import train_test_split
from sklearn.metrics import mean_squared_error

X_train, X_test, y_train, y_test = train_test_split(X, y, test_size=0.2, random_state=42)

model = RandomForestRegressor()
model.fit(X_train, y_train)

preds = model.predict(X_test)
mse = mean_squared_error(y_test, preds)
print(f"Test MSE: {mse}")


