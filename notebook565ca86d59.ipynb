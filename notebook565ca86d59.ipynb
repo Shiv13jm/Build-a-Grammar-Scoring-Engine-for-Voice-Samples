# 📦 Install Required Libraries
!pip install transformers datasets language-tool-python bert-score librosa soundfile speechrecognition --quiet

# 📁 Import Libraries
import torch
import pandas as pd
import numpy as np
from torch import nn
from transformers import BertTokenizer, BertModel, BertPreTrainedModel, BertConfig
from transformers import Trainer, TrainingArguments
from sklearn.model_selection import train_test_split
from datasets import Dataset
import language_tool_python
import speech_recognition as sr
import os
import io
import soundfile as sf
import librosa

# 📘 Load and Preprocess Data
import pandas as pd

data = pd.DataFrame([
    {"sentence": "I am going to the market.", "score": 0.95},
    {"sentence": "He go to the store every day.", "score": 0.50},
    {"sentence": "She has never been to France.", "score": 0.98},
    {"sentence": "They is playing outside.", "score": 0.40},
    {"sentence": "This book is very interesting.", "score": 0.93},
    {"sentence": "He don't know the answer.", "score": 0.45},
    {"sentence": "We went to the park yesterday.", "score": 0.96},
    {"sentence": "The cat sleep on the sofa.", "score": 0.55},
    {"sentence": "I'm studying for my exams.", "score": 0.94},
    {"sentence": "She like ice cream.", "score": 0.60},
    {"sentence": "It's raining heavily outside.", "score": 0.97},
    {"sentence": "He do his homework every night.", "score": 0.50},
    {"sentence": "I has a new phone.", "score": 0.42},
    {"sentence": "They are going to the concert tonight.", "score": 0.95},
    {"sentence": "The dog chased the cat through garden.", "score": 0.60},
    {"sentence": "There is many reasons for that.", "score": 0.58},
    {"sentence": "He always forgets his keys.", "score": 0.92},
    {"sentence": "The sun rise in the east.", "score": 0.65},
    {"sentence": "I'm feeling tired today.", "score": 0.94},
    {"sentence": "She didn't went to the party.", "score": 0.40},
    {"sentence": "We has been waiting for hours.", "score": 0.55},
    {"sentence": "They were happy to help.", "score": 0.93},
    {"sentence": "He can sings well.", "score": 0.50},
    {"sentence": "Do you wants tea or coffee?", "score": 0.48},
    {"sentence": "My sister is teacher.", "score": 0.62},
    {"sentence": "The children are playing in the park.", "score": 0.96},
    {"sentence": "It is a beautiful day.", "score": 0.95},
    {"sentence": "He do not like pizza.", "score": 0.55},
    {"sentence": "She goes to gym every morning.", "score": 0.85},
    {"sentence": "I has two cats and a dog.", "score": 0.45},
    {"sentence": "We were planning a trip.", "score": 0.91},
    {"sentence": "He have three sisters.", "score": 0.50},
    {"sentence": "Are you coming to the party?", "score": 0.97},
    {"sentence": "She did not saw the movie.", "score": 0.43},
    {"sentence": "My brother is an engineer.", "score": 0.94},
    {"sentence": "They likes to play soccer.", "score": 0.57},
    {"sentence": "I am reading a book.", "score": 0.96},
    {"sentence": "We goes shopping every week.", "score": 0.54},
    {"sentence": "He is a good friend.", "score": 0.95},
    {"sentence": "They have visited Paris twice.", "score": 0.96},
    {"sentence": "Does she has a car?", "score": 0.50},
    {"sentence": "I'm eating dinner now.", "score": 0.94},
    {"sentence": "She go to school by bus.", "score": 0.58},
    {"sentence": "He was watching TV when I arrived.", "score": 0.93},
    {"sentence": "The boy kick the ball.", "score": 0.60},
    {"sentence": "I love reading books.", "score": 0.97},
    {"sentence": "They don't likes chocolate.", "score": 0.52},
    {"sentence": "She is working hard.", "score": 0.96},
    {"sentence": "We was there yesterday.", "score": 0.55},
    {"sentence": "The food is delicious.", "score": 0.95},
    {"sentence": "He drinks coffee every morning.", "score": 0.96},
    {"sentence": "She have many friends.", "score": 0.53},
    {"sentence": "He enjoys playing video games.", "score": 0.94},
    {"sentence": "They is going to the store.", "score": 0.42},
    {"sentence": "I don't like spicy food.", "score": 0.95},
    {"sentence": "My mom cooks very well.", "score": 0.97},
    {"sentence": "Does he goes there often?", "score": 0.48},
    {"sentence": "He walk to school.", "score": 0.57},
    {"sentence": "We are watching a movie.", "score": 0.96},
    {"sentence": "I has to study now.", "score": 0.49},
    {"sentence": "She looks happy today.", "score": 0.93},
    {"sentence": "He not like the movie.", "score": 0.52},
    {"sentence": "It was raining all night.", "score": 0.95},
    {"sentence": "Do she live here?", "score": 0.50},
    {"sentence": "I will call you later.", "score": 0.97},
    {"sentence": "The dog bark loud.", "score": 0.61},
    {"sentence": "She is a nurse.", "score": 0.95},
    {"sentence": "They doesn't understand.", "score": 0.54},
    {"sentence": "We watched a great movie.", "score": 0.96},
    {"sentence": "He goes school every day.", "score": 0.58},
    {"sentence": "The cake taste good.", "score": 0.63},
    {"sentence": "She was born in July.", "score": 0.94},
    {"sentence": "Is very cold today.", "score": 0.45},
    {"sentence": "We is ready to leave.", "score": 0.42},
    {"sentence": "She helped me a lot.", "score": 0.93},
    {"sentence": "He doing his homework now.", "score": 0.49},
    {"sentence": "They went to the museum.", "score": 0.95},
    {"sentence": "The weather is hot today.", "score": 0.94},
    {"sentence": "I am feeling great!", "score": 0.96},
    {"sentence": "He don't understands this.", "score": 0.52},
    {"sentence": "That's a nice dress.", "score": 0.95},
    {"sentence": "My father is doctor.", "score": 0.62},
    {"sentence": "He is very tall.", "score": 0.95},
    {"sentence": "She can plays the piano.", "score": 0.54},
    {"sentence": "They were laughing loudly.", "score": 0.93},
    {"sentence": "I doesn't have time.", "score": 0.50},
    {"sentence": "We going to beach.", "score": 0.48},
    {"sentence": "He broke his leg.", "score": 0.92},
    {"sentence": "She like to dance.", "score": 0.60},
    {"sentence": "It was a surprise party.", "score": 0.94},
    {"sentence": "The children plays in garden.", "score": 0.55},
    {"sentence": "I lost my keys.", "score": 0.96},
    {"sentence": "He is not here today.", "score": 0.94},
    {"sentence": "She have two phones.", "score": 0.52},
    {"sentence": "We are learning grammar.", "score": 0.95},
    {"sentence": "I doesn't know that.", "score": 0.53},
    {"sentence": "The train arrive late.", "score": 0.59},
    {"sentence": "You looks tired.", "score": 0.57},
    {"sentence": "He's a smart guy.", "score": 0.96},
    {"sentence": "They enjoy going out.", "score": 0.93},
    {"sentence": "She don't drive.", "score": 0.54},
    {"sentence": "This room is big.", "score": 0.92},
    {"sentence": "We was going to market.", "score": 0.49},
    {"sentence": "Are you okay?", "score": 0.97},
    {"sentence": "He likes chocolate.", "score": 0.95},
    {"sentence": "I eating lunch now.", "score": 0.46},
    {"sentence": "The car are fast.", "score": 0.44},
    {"sentence": "She working late.", "score": 0.48},
    {"sentence": "That was funny.", "score": 0.96},
    {"sentence": "You has done well.", "score": 0.51},
    {"sentence": "We cooked dinner together.", "score": 0.95},
    {"sentence": "He sleep early.", "score": 0.59},
    {"sentence": "I saw the movie.", "score": 0.94},
    {"sentence": "He drink tea.", "score": 0.60},
    {"sentence": "She bought a dress.", "score": 0.93}
])

print(data.head())

# 🧪 Train-Test Split
train_df, val_df = train_test_split(data, test_size=0.1, random_state=42)
train_dataset = Dataset.from_pandas(train_df)
val_dataset = Dataset.from_pandas(val_df)

# 🔤 Tokenization
tokenizer = BertTokenizer.from_pretrained('bert-base-uncased')

def tokenize(batch):
    return tokenizer(batch['sentence'], padding=True, truncation=True)

train_dataset = train_dataset.map(tokenize, batched=True)
val_dataset = val_dataset.map(tokenize, batched=True)

# 🎯 Define Grammar Scorer Model
class GrammarScorer(BertPreTrainedModel):
    def __init__(self, config):
        super(GrammarScorer, self).__init__(config)
        self.bert = BertModel(config)
        self.dropout = nn.Dropout(0.3)
        self.regressor = nn.Linear(config.hidden_size, 1)

    def forward(self, input_ids=None, attention_mask=None, token_type_ids=None, labels=None):
        # Only use the needed parameters and ignore token_type_ids
        outputs = self.bert(input_ids=input_ids, attention_mask=attention_mask)
        pooled_output = outputs.pooler_output
        pooled_output = self.dropout(pooled_output)
        scores = self.regressor(pooled_output).squeeze()

        loss = None
        if labels is not None:
            loss_fn = nn.MSELoss()
            loss = loss_fn(scores, labels)

        return {'loss': loss, 'logits': scores}

# 🧠 Model Initialization
config = BertConfig.from_pretrained('bert-base-uncased')
model = GrammarScorer.from_pretrained('bert-base-uncased', config=config)

# 🏋️ Prepare Dataset for Trainer
def format_dataset(dataset):
    dataset.set_format(type='torch', columns=['input_ids', 'attention_mask', 'score'])
    dataset = dataset.rename_column("score", "labels")
    return dataset

train_dataset = format_dataset(train_dataset)
val_dataset = format_dataset(val_dataset)

# ⚙️ Training Arguments
training_args = TrainingArguments(
    output_dir="./results",
    eval_strategy="epoch",  # Changed from evaluation_strategy to eval_strategy
    learning_rate=2e-5,
    per_device_train_batch_size=8,
    per_device_eval_batch_size=8,
    num_train_epochs=3,
    weight_decay=0.01,
    save_strategy="epoch",
    logging_dir="./logs",
    logging_steps=10,
    run_name="grammar_scorer_training",  # Added distinct run_name to avoid warning
)

# 🚀 Trainer
trainer = Trainer(
    model=model,
    args=training_args,
    train_dataset=train_dataset,
    eval_dataset=val_dataset,
)

# ✅ Train the Model
trainer.train()

# 💾 Save the model
model_save_path = "./grammar_scorer_model"
model.save_pretrained(model_save_path)
tokenizer.save_pretrained(model_save_path)

# 🎤 Voice Recognition Functions
def transcribe_audio_file(audio_file_path):
    recognizer = sr.Recognizer()
    with sr.AudioFile(audio_file_path) as source:
        audio_data = recognizer.record(source)
        try:
            text = recognizer.recognize_google(audio_data)
            return text
        except sr.UnknownValueError:
            return "Speech recognition could not understand audio"
        except sr.RequestError as e:
            return f"Could not request results from speech recognition service: {e}"

def process_audio_data(audio_data, sample_rate):
    with io.BytesIO() as wav_io:
        sf.write(wav_io, audio_data, sample_rate, format='WAV')
        wav_io.seek(0)
        with sr.AudioFile(wav_io) as source:
            recognizer = sr.Recognizer()
            audio = recognizer.record(source)
            try:
                text = recognizer.recognize_google(audio)
                return text
            except sr.UnknownValueError:
                return "Speech recognition could not understand audio"
            except sr.RequestError as e:
                return f"Could not request results from speech recognition service: {e}"

# 🔍 Inference and Feedback
def predict_grammar_score(text):
    inputs = tokenizer(text, return_tensors="pt", padding=True, truncation=True)

    # Remove token_type_ids if present to avoid the error
    if 'token_type_ids' in inputs:
        inputs.pop('token_type_ids')

    with torch.no_grad():
        output = model(**inputs)
        score = output['logits'].item()

    # Clamp the score between 0 and 1 to ensure valid range
    score = max(0.0, min(1.0, score))
    return round(score, 2)

def get_grammar_feedback(text):
    try:
        tool = language_tool_python.LanguageTool('en-US')
        matches = tool.check(text)
        feedback = []
        for match in matches:
            feedback.append({
                "issue": match.message,
                "suggestion": match.replacements,
                "offset": match.offset,
                "length": match.errorLength
            })
        return feedback
    except Exception as e:
        print(f"Error in grammar checking: {e}")
        return [{"issue": "Could not check grammar", "suggestion": [], "offset": 0, "length": 0}]

# 🎙️ Voice Grammar Assessment
def assess_voice_grammar(audio_file_path=None, audio_data=None, sample_rate=None):
    if audio_file_path:
        transcription = transcribe_audio_file(audio_file_path)
    elif audio_data is not None and sample_rate is not None:
        transcription = process_audio_data(audio_data, sample_rate)
    else:
        return {"error": "Either audio_file_path or both audio_data and sample_rate must be provided"}

    if transcription.startswith("Speech recognition") or transcription.startswith("Could not request"):
        return {"error": transcription}

    grammar_score = predict_grammar_score(transcription)
    grammar_feedback = get_grammar_feedback(transcription)

    return {
        "transcription": transcription,
        "grammar_score": grammar_score,
        "feedback": grammar_feedback
    }

# 🧪 Example Usage
try:
    sample = "She go to school yesterday"
    print("Sample Sentence:", sample)
    score = predict_grammar_score(sample)
    print("Predicted Grammar Score:", score)
    feedback = get_grammar_feedback(sample)
    print("Grammar Feedback:", feedback)

    # Uncomment to test voice input when you have an audio file
    # result = assess_voice_grammar(audio_file_path="voice_sample.wav")
    # print(result)

    print("\nGrammar scorer is working correctly!")
except Exception as e:
    print(f"Error during testing: {e}")
